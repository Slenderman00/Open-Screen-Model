{
 "cells": [
  {
   "cell_type": "markdown",
   "metadata": {},
   "source": [
    "![Open Screen](https://github.com/Slenderman00/open_screen/blob/master/media/banner.png?raw=true)"
   ]
  },
  {
   "cell_type": "markdown",
   "metadata": {},
   "source": [
    "### Downloads the dataset\n",
    "\n",
    "Remember to install kaggle and set the kaggle api key `pip install kaggle`"
   ]
  },
  {
   "cell_type": "code",
   "execution_count": 1,
   "metadata": {},
   "outputs": [],
   "source": [
    "import os\n",
    "import subprocess\n",
    "from IPython.display import clear_output\n",
    "from shutil import rmtree\n",
    "\n",
    "\n",
    "cwd = os.getcwd()\n",
    "main_dataset_path = f'{cwd}/dataset'\n",
    "if not os.path.exists(main_dataset_path):\n",
    "    process = subprocess.Popen('bash download_dataset.sh', shell=True, stdout=subprocess.PIPE, stderr=subprocess.STDOUT, universal_newlines=True)\n",
    "    for stdout_line in iter(process.stdout.readline, \"\"):\n",
    "        clear_output(wait=True)\n",
    "        print(stdout_line, end=\"\")\n",
    "    process.stdout.close()\n",
    "    process.wait()\n",
    "    assert process.returncode == 0\n",
    "    print('Finished downloading and extracting')\n",
    "\n",
    "    dataset_len = len(os.listdir(f'{cwd}/dataset/image')) # Remember to do - 1 to get the actual index\n",
    "    dataset_path = f'{cwd}/supervisely_person_clean_2667_img/supervisely_person_clean_2667_img'\n",
    "\n",
    "    # append data from supervisely_person_clean_2667_img to dataset\n",
    "    for idx, file in enumerate(os.listdir(f'{dataset_path}/images')):\n",
    "        file_png = file.split('.')[0] + '.png'\n",
    "\n",
    "        os.rename(f'{dataset_path}/masks/{file_png}', f'{main_dataset_path}/mask/{idx + dataset_len - 1}.png')\n",
    "        os.rename(f'{dataset_path}/images/{file}', f'{main_dataset_path}/image/{idx + dataset_len - 1}.jpg')\n",
    "\n",
    "    rmtree(f'{cwd}/supervisely_person_clean_2667_img')\n",
    "\n",
    "    dataset_path = f'{cwd}/segmentation_full_body_tik_tok_2615_img/segmentation_full_body_tik_tok_2615_img'\n",
    "\n",
    "    # append data from segmentation_full_body_tik_tok_2615_img to dataset\n",
    "    for idx, file in enumerate(os.listdir(f'{dataset_path}/images')):\n",
    "        file_png = file.split('.')[0] + '.png'\n",
    "    \n",
    "        os.rename(f'{dataset_path}/masks/{file_png}', f'{main_dataset_path}/mask/{idx + dataset_len - 1}.png')\n",
    "        os.rename(f'{dataset_path}/images/{file}', f'{main_dataset_path}/image/{idx + dataset_len - 1}.jpg')\n",
    "    \n",
    "    rmtree(f'{cwd}/segmentation_full_body_tik_tok_2615_img')"
   ]
  },
  {
   "cell_type": "markdown",
   "metadata": {},
   "source": [
    "### Calculate mean and std"
   ]
  },
  {
   "cell_type": "code",
   "execution_count": 2,
   "metadata": {},
   "outputs": [
    {
     "name": "stdout",
     "output_type": "stream",
     "text": [
      "Mean: tensor([0.4116, 0.5888, 0.3816])\n",
      "Std: tensor([0.3293, 0.3255, 0.3206])\n"
     ]
    }
   ],
   "source": [
    "import os\n",
    "from PIL import Image\n",
    "import torch\n",
    "from torchvision import transforms\n",
    "\n",
    "cwd = os.getcwd()\n",
    "\n",
    "sums = torch.zeros(3)\n",
    "squared_sums = torch.zeros(3)\n",
    "count = 0\n",
    "\n",
    "for image in os.listdir(f'{cwd}/dataset/image'):\n",
    "    image = f'{cwd}/dataset/image/{image}'\n",
    "    image = Image.open(image).convert('RGB')\n",
    "\n",
    "    image_tensor = transforms.ToTensor()(image)\n",
    "\n",
    "    sums += image_tensor.sum(dim=[1, 2])\n",
    "    squared_sums += (image_tensor ** 2).sum(dim=[1, 2])\n",
    "    count += image_tensor.size(1) * image_tensor.size(2)\n",
    "\n",
    "    del image\n",
    "    del image_tensor\n",
    "\n",
    "mean = sums / count\n",
    "std = (squared_sums / count - mean ** 2) ** 0.5\n",
    "\n",
    "print(f'Mean: {mean}')\n",
    "print(f'Std: {std}')"
   ]
  },
  {
   "cell_type": "markdown",
   "metadata": {},
   "source": [
    "### Create a custom dataset loader for pytorch"
   ]
  },
  {
   "cell_type": "code",
   "execution_count": 3,
   "metadata": {},
   "outputs": [],
   "source": [
    "import os\n",
    "from torchvision import transforms\n",
    "from torch.utils.data import Dataset\n",
    "from PIL import Image\n",
    "\n",
    "image_transform = transforms.Compose([\n",
    "    transforms.Resize((512, 512)),  # Resize the images to a fixed size\n",
    "    transforms.ToTensor(),  # Convert the images to tensors\n",
    "    transforms.Normalize(mean, std), # Normalise data\n",
    "])\n",
    "\n",
    "mask_transform = transforms.Compose([\n",
    "    transforms.Resize((512, 512)),   # Resize the masks to a fixed size\n",
    "    transforms.Grayscale(),          # Convert masks to grayscale if they are not already\n",
    "    transforms.ToTensor(),        # Convert the masks to tensors\n",
    "])\n",
    "\n",
    "class CustomLoader(Dataset):\n",
    "    def __init__(self, device='cpu'):\n",
    "        self.device = device\n",
    "        self.cwd = os.getcwd()\n",
    "        self.len = len(os.listdir(f'{self.cwd}/dataset/image'))\n",
    "\n",
    "    def __len__(self):\n",
    "        return self.len\n",
    "\n",
    "    def __getitem__(self, idx):\n",
    "        image_path = f'{self.cwd}/dataset/image/{idx}.jpg'\n",
    "        mask_path = f'{self.cwd}/dataset/mask/{idx}.png'\n",
    "\n",
    "        image = Image.open(image_path).convert('RGB')\n",
    "        mask = Image.open(mask_path).convert('L')  # Convert mask to grayscale\n",
    "\n",
    "        # Apply the transformations\n",
    "        image_tensor = image_transform(image).float()\n",
    "        mask_tensor = mask_transform(mask).float()\n",
    "\n",
    "        # If mask is not single-channel, take the first channel\n",
    "        if mask_tensor.size(0) != 1:\n",
    "            mask_tensor = mask_tensor[0].unsqueeze(0)\n",
    "\n",
    "        # Move tensors to the specified device\n",
    "        image_tensor = image_tensor.to(self.device)\n",
    "        mask_tensor = mask_tensor.to(self.device)\n",
    "\n",
    "        return {'images': image_tensor, 'masks': mask_tensor}"
   ]
  },
  {
   "cell_type": "markdown",
   "metadata": {},
   "source": [
    "### U-Net \n",
    "After the disappointing performance of the last model we have decided to implement a variant of the U-Net architecture\n",
    "\n",
    "![u-net](https://upload.wikimedia.org/wikipedia/commons/2/2b/Example_architecture_of_U-Net_for_producing_k_256-by-256_image_masks_for_a_256-by-256_RGB_image.png)\n",
    "\n",
    "(https://en.wikipedia.org/wiki/U-Net)"
   ]
  },
  {
   "cell_type": "code",
   "execution_count": 4,
   "metadata": {},
   "outputs": [],
   "source": [
    "import torch\n",
    "import torch.nn as nn\n",
    "import torch.nn.functional as F\n",
    "\n",
    "class SimpleUnet(nn.Module):\n",
    "    def __init__(self):\n",
    "        super(SimpleUnet, self).__init__()\n",
    "\n",
    "        # Down conv\n",
    "        self.down_conv1 = nn.Sequential(\n",
    "            nn.Conv2d(3, 256, kernel_size=3, padding=1),\n",
    "            nn.BatchNorm2d(256),\n",
    "            nn.ReLU()\n",
    "        )\n",
    "        self.pool1 = nn.MaxPool2d(2, 2)\n",
    "        self.down_conv2 = nn.Sequential(\n",
    "            nn.Conv2d(256, 128, kernel_size=3, padding=1),\n",
    "            nn.BatchNorm2d(128),\n",
    "            nn.ReLU()\n",
    "        )\n",
    "        self.pool2 = nn.MaxPool2d(2, 2)\n",
    "        self.down_conv3 = nn.Sequential(\n",
    "            nn.Conv2d(128, 64, kernel_size=3, padding=1),\n",
    "            nn.BatchNorm2d(64),\n",
    "            nn.ReLU()\n",
    "        )\n",
    "        self.pool3 = nn.MaxPool2d(2, 2)\n",
    "        self.down_conv4 = nn.Sequential(\n",
    "            nn.Conv2d(64, 32, kernel_size=3, padding=1),\n",
    "            nn.BatchNorm2d(32),\n",
    "            nn.ReLU()\n",
    "        )\n",
    "\n",
    "        # Up conv\n",
    "        self.up_conv1 = nn.Sequential(\n",
    "            nn.Conv2d(96, 128, kernel_size=3, padding=1),\n",
    "            nn.BatchNorm2d(128),\n",
    "            nn.ReLU()\n",
    "        )\n",
    "        self.up_conv2 = nn.Sequential(\n",
    "            nn.Conv2d(256, 512, kernel_size=3, padding=1),\n",
    "            nn.BatchNorm2d(512),\n",
    "            nn.ReLU()\n",
    "        )\n",
    "        self.up_conv3 = nn.Sequential(\n",
    "            nn.Conv2d(768, 1, kernel_size=3, padding=1),\n",
    "            nn.BatchNorm2d(1),\n",
    "            nn.ReLU()\n",
    "        )\n",
    "\n",
    "    def forward(self, x):\n",
    "        # Downsample\n",
    "        x1 = F.relu(self.down_conv1(x))\n",
    "        x1p = self.pool1(x1)\n",
    "        x2 = F.relu(self.down_conv2(x1p))\n",
    "        x2p = self.pool2(x2)\n",
    "        x3 = F.relu(self.down_conv3(x2p))\n",
    "        x3p = self.pool3(x3)\n",
    "        x4 = F.relu(self.down_conv4(x3p))\n",
    "\n",
    "        # Upsample\n",
    "        x5u = F.interpolate(x4, scale_factor=2, mode='bilinear', align_corners=False)\n",
    "        x5c = torch.cat([x5u, x3], dim=1)\n",
    "        x6 = F.relu(self.up_conv1(x5c))\n",
    "        x6u = F.interpolate(x6, scale_factor=2, mode='bilinear', align_corners=False)\n",
    "        x6c = torch.cat([x6u, x2], dim=1)\n",
    "        x7 = F.relu(self.up_conv2(x6c))\n",
    "        x7u = F.interpolate(x7, scale_factor=2, mode='bilinear', align_corners=False)\n",
    "        x7c = torch.cat([x7u, x1], dim=1)\n",
    "\n",
    "        x8 = F.relu(self.up_conv3(x7c))\n",
    "\n",
    "        x_out = torch.sigmoid(x8)\n",
    "        return x_out"
   ]
  },
  {
   "cell_type": "code",
   "execution_count": 5,
   "metadata": {},
   "outputs": [],
   "source": [
    "import torch.nn as nn\n",
    "import torch.optim as optim\n",
    "\n",
    "device = torch.device('cuda' if torch.cuda.is_available() else 'cpu')\n",
    "#model = SimpleSegmentationModel().to(device)\n",
    "model = SimpleUnet().to(device)\n",
    "\n",
    "criterion = nn.BCEWithLogitsLoss()  # Binary Cross-Entropy Loss for binary classification\n",
    "optimizer = optim.Adam(model.parameters(), lr=0.001)\n"
   ]
  },
  {
   "cell_type": "markdown",
   "metadata": {},
   "source": [
    "### Settings\n",
    "\n",
    "- Batch_size: sets the DataLoaders batch size\n",
    "- Debug: Enables debug mode (detailed view of what happens inside the layers during inference)"
   ]
  },
  {
   "cell_type": "code",
   "execution_count": 6,
   "metadata": {},
   "outputs": [],
   "source": [
    "batch_size = 2\n",
    "debug = True"
   ]
  },
  {
   "cell_type": "code",
   "execution_count": 7,
   "metadata": {},
   "outputs": [],
   "source": [
    "from torch.utils.data import DataLoader, random_split\n",
    "\n",
    "train_dataset = CustomLoader(device=device)\n",
    "\n",
    "validation_size = int(0.2 * len(train_dataset))\n",
    "train_size = len(train_dataset) - validation_size\n",
    "\n",
    "train_subset, validation_subset = random_split(train_dataset, [train_size, validation_size])\n",
    "\n",
    "train_loader = DataLoader(train_subset, batch_size=batch_size, shuffle=True)\n",
    "validation_loader = DataLoader(validation_subset, batch_size=batch_size, shuffle=True)"
   ]
  },
  {
   "cell_type": "code",
   "execution_count": null,
   "metadata": {},
   "outputs": [
    {
     "name": "stderr",
     "output_type": "stream",
     "text": [
      "Clipping input data to the valid range for imshow with RGB data ([0..1] for floats or [0..255] for integers).\n"
     ]
    },
    {
     "data": {
      "image/png": "[encoded data removed]",
      "text/plain": [
       "<Figure size 720x360 with 1 Axes>"
      ]
     },
     "metadata": {
      "needs_background": "light"
     },
     "output_type": "display_data"
    },
    {
     "data": {
      "image/png": "[encoded data removed]",
      "text/plain": [
       "<Figure size 720x360 with 1 Axes>"
      ]
     },
     "metadata": {
      "needs_background": "light"
     },
     "output_type": "display_data"
    },
    {
     "data": {
      "image/png": "[encoded data removed]",
      "text/plain": [
       "<Figure size 720x360 with 3 Axes>"
      ]
     },
     "metadata": {
      "needs_background": "light"
     },
     "output_type": "display_data"
    },
    {
     "name": "stdout",
     "output_type": "stream",
     "text": [
      "Epoch [1], Loss: 0.867111086845398\n"
     ]
    }
   ],
   "source": [
    "from IPython.display import clear_output\n",
    "import matplotlib.pyplot as plt\n",
    "import numpy as np\n",
    "\n",
    "def plot_loss(loss_values, val_loss_values):\n",
    "    clear_output(wait=True)\n",
    "\n",
    "    plt.figure(figsize=(10, 5))\n",
    "    plt.plot(loss_values, label='Training Loss')\n",
    "    plt.xlabel('Iterations')\n",
    "    plt.ylabel('Loss')\n",
    "    plt.legend()\n",
    "\n",
    "    plt.figure(figsize=(10, 5))\n",
    "    plt.plot(val_loss_values, label='Validation Loss')\n",
    "    plt.xlabel('Iterations')\n",
    "    plt.ylabel('Loss')\n",
    "    plt.legend()\n",
    "\n",
    "def plot_masks(image, true_mask, pred_mask, epoch, idx, loss_values, val_loss_values):\n",
    "    plot_loss(loss_values, val_loss_values)\n",
    "\n",
    "    # Ensure we're only plotting the first image in the batch\n",
    "    if image.dim() == 4:  # Check if the input tensor is in the format [B, C, H, W]\n",
    "        image = image[0]  # Take the first image of the batch\n",
    "    if true_mask.dim() == 4:\n",
    "        true_mask = true_mask[0]  # Take the first mask of the batch\n",
    "    if pred_mask.dim() == 4:\n",
    "        pred_mask = pred_mask[0]  # Take the first predicted mask of the batch\n",
    "\n",
    "    fig, axs = plt.subplots(1, 3, figsize=(10, 5))\n",
    "\n",
    "    image_np = image.cpu().numpy().transpose(1, 2, 0)\n",
    "    pred_mask_np = pred_mask.detach().cpu().numpy().squeeze()  # Remove singleton dimensions\n",
    "\n",
    "    if true_mask is not None:\n",
    "        true_mask_np = true_mask.cpu().numpy().squeeze()  # Remove singleton dimensions\n",
    "        axs[1].imshow(true_mask_np, cmap='gray')\n",
    "        axs[1].set_title('Ground Truth Mask')\n",
    "        axs[1].axis('off')\n",
    "\n",
    "    axs[0].imshow(image_np)\n",
    "    axs[0].set_title('Original Image')\n",
    "    axs[0].axis('off')\n",
    "    \n",
    "    axs[2].imshow(pred_mask_np, cmap='gray')\n",
    "    axs[2].set_title('Predicted Mask')\n",
    "    axs[2].axis('off')\n",
    "    \n",
    "    plt.suptitle(f'Epoch: {epoch}, Index: {idx}')\n",
    "    plt.show()\n",
    "\n",
    "loss_values = []\n",
    "val_loss_values = []\n",
    "\n",
    "for epoch in range(100):\n",
    "    model.train()\n",
    "    tra_loss = 0\n",
    "    for i, sample in enumerate(train_loader):\n",
    "        images, masks = sample['images'], sample['masks']\n",
    "        optimizer.zero_grad()\n",
    "        outputs = model(images)  \n",
    "\n",
    "        loss = criterion(outputs, masks) \n",
    "        loss.backward()\n",
    "        optimizer.step()\n",
    "\n",
    "        #if debug:\n",
    "        #    loss_values.append(loss.item())\n",
    "        #else:\n",
    "        #    tra_loss += loss.item()\n",
    "        tra_loss += loss.item()\n",
    "        \n",
    "        if (i + epoch) % 500 == 0 and debug:\n",
    "            pred_mask = outputs > 0.5  # Apply threshold to get binary mask\n",
    "            plot_masks(images, masks, pred_mask, epoch+1, i+1, loss_values, val_loss_values)\n",
    "            print(f'Epoch [{epoch+1}], Loss: {loss.item()}')\n",
    "\n",
    "\n",
    "    tra_loss /= len(train_loader)\n",
    "    loss_values.append(tra_loss)\n",
    "    plot_loss(loss_values, val_loss_values)\n",
    "    print(f'Epoch [{epoch+1}], Loss: {tra_loss}')\n",
    " \n",
    "    torch.save(model.state_dict(), f'backups/epoch{epoch}.pth')\n",
    "\n",
    "\n",
    "\n",
    "    # Validation step\n",
    "    model.eval()  # Set the model to evaluation mode\n",
    "    with torch.no_grad():  # No need to track gradients for validation\n",
    "        val_loss = 0\n",
    "        for i, sample in enumerate(validation_loader):\n",
    "            images, masks = sample['images'], sample['masks']\n",
    "            outputs = model(images)  \n",
    "\n",
    "            loss = criterion(outputs, masks)\n",
    "            val_loss += loss.item()\n",
    "\n",
    "            if (i + epoch) % 100 == 0 and debug:\n",
    "                pred_mask = outputs > 0.5  # Apply threshold to get binary mask\n",
    "                plot_masks(images, masks, pred_mask, epoch+1, i+1, loss_values, val_loss_values)\n",
    "                print('In Validation')\n",
    "\n",
    "        val_loss /= len(validation_loader)\n",
    "        val_loss_values.append(val_loss)\n",
    "        print(f'Epoch [{epoch+1}], Validation Loss: {val_loss}')"
   ]
  },
  {
   "cell_type": "code",
   "execution_count": null,
   "metadata": {},
   "outputs": [],
   "source": [
    "# save the model\n",
    "torch.save(model.state_dict(), 'cnn.pth')\n"
   ]
  }
 ],
 "metadata": {
  "kernelspec": {
   "display_name": "Python 3 (ipykernel)",
   "language": "python",
   "name": "python3"
  },
  "language_info": {
   "codemirror_mode": {
    "name": "ipython",
    "version": 3
   },
   "file_extension": ".py",
   "mimetype": "text/x-python",
   "name": "python",
   "nbconvert_exporter": "python",
   "pygments_lexer": "ipython3",
   "version": "3.10.12"
  }
 },
 "nbformat": 4,
 "nbformat_minor": 4
}
