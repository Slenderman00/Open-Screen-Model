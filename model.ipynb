{
 "cells": [
  {
   "cell_type": "markdown",
   "metadata": {},
   "source": [
    "![Open Screen](https://github.com/Slenderman00/open_screen/blob/master/media/banner.png?raw=true)"
   ]
  },
  {
   "cell_type": "markdown",
   "metadata": {},
   "source": [
    "### Downloads the dataset"
   ]
  },
  {
   "cell_type": "code",
   "execution_count": 1,
   "metadata": {},
   "outputs": [],
   "source": [
    "import os\n",
    "import subprocess\n",
    "from IPython.display import clear_output\n",
    "\n",
    "cwd = os.getcwd()\n",
    "if not os.path.exists(f'{cwd}/dataset'):\n",
    "    process = subprocess.Popen('bash download_dataset.sh', shell=True, stdout=subprocess.PIPE, stderr=subprocess.STDOUT, universal_newlines=True)\n",
    "    for stdout_line in iter(process.stdout.readline, \"\"):\n",
    "        clear_output(wait=True)\n",
    "        print(stdout_line, end=\"\")\n",
    "    process.stdout.close()\n",
    "    process.wait()\n",
    "    assert process.returncode == 0\n",
    "    print('Finished downloading and extracting')\n"
   ]
  },
  {
   "cell_type": "markdown",
   "metadata": {},
   "source": [
    "### Create a custom dataset loader for pytorch"
   ]
  },
  {
   "cell_type": "code",
   "execution_count": 2,
   "metadata": {},
   "outputs": [],
   "source": [
    "import os\n",
    "from torchvision import transforms\n",
    "from torch.utils.data import Dataset\n",
    "from PIL import Image\n",
    "\n",
    "# Define the transformations for preprocessing the images\n",
    "image_transform = transforms.Compose([\n",
    "    transforms.Resize((512, 512)),  # Resize the images to a fixed size\n",
    "    transforms.ToTensor(),  # Convert the images to tensors\n",
    "])\n",
    "\n",
    "# Define the transformations for preprocessing the masks\n",
    "mask_transform = transforms.Compose([\n",
    "    transforms.Resize((512, 512)),  # Resize the masks to a fixed size\n",
    "    transforms.Grayscale(),         # Convert masks to grayscale if they are not already\n",
    "    transforms.ToTensor(),          # Convert the masks to tensors\n",
    "])\n",
    "\n",
    "class CustomLoader(Dataset):\n",
    "    def __init__(self, device='cpu'):\n",
    "        self.device = device\n",
    "        self.cwd = os.getcwd()\n",
    "        self.len = len(os.listdir(f'{self.cwd}/dataset/image'))\n",
    "\n",
    "    def __len__(self):\n",
    "        return self.len\n",
    "\n",
    "    def __getitem__(self, idx):\n",
    "        image_path = f'{self.cwd}/dataset/image/{idx}.jpg'\n",
    "        mask_path = f'{self.cwd}/dataset/mask/{idx}.png'\n",
    "\n",
    "        image = Image.open(image_path).convert('RGB')\n",
    "        mask = Image.open(mask_path).convert('L')  # Convert mask to grayscale\n",
    "\n",
    "        # Apply the transformations\n",
    "        image_tensor = image_transform(image).float()\n",
    "        mask_tensor = mask_transform(mask).float()\n",
    "\n",
    "        # If mask is not single-channel, take the first channel\n",
    "        if mask_tensor.size(0) != 1:\n",
    "            mask_tensor = mask_tensor[0].unsqueeze(0)\n",
    "\n",
    "        # Move tensors to the specified device\n",
    "        image_tensor = image_tensor.to(self.device)\n",
    "        mask_tensor = mask_tensor.to(self.device)\n",
    "\n",
    "        return {'images': image_tensor, 'masks': mask_tensor}"
   ]
  },
  {
   "cell_type": "code",
   "execution_count": 3,
   "metadata": {},
   "outputs": [],
   "source": [
    "import torch\n",
    "import torch.nn as nn\n",
    "import torch.nn.functional as F\n",
    "\n",
    "class SimpleSegmentationModel(nn.Module):\n",
    "    def __init__(self):\n",
    "        super(SimpleSegmentationModel, self).__init__()\n",
    "        # Encoder\n",
    "        self.enc_conv1 = nn.Conv2d(3, 64, kernel_size=3, padding=1)\n",
    "        self.enc_bn1 = nn.BatchNorm2d(64)\n",
    "        self.enc_conv2 = nn.Conv2d(64, 128, kernel_size=3, padding=1)\n",
    "        self.enc_bn2 = nn.BatchNorm2d(128)\n",
    "        self.enc_conv3 = nn.Conv2d(128, 256, kernel_size=3, padding=1)\n",
    "        self.enc_bn3 = nn.BatchNorm2d(256)\n",
    "        \n",
    "        # Decoder\n",
    "        self.dec_conv1 = nn.Conv2d(256, 128, kernel_size=3, padding=1)\n",
    "        self.dec_bn1 = nn.BatchNorm2d(128)\n",
    "        self.dec_conv2 = nn.Conv2d(128, 64, kernel_size=3, padding=1)\n",
    "        self.dec_bn2 = nn.BatchNorm2d(64)\n",
    "        self.dec_conv3 = nn.Conv2d(64, 1, kernel_size=3, padding=1)\n",
    "        \n",
    "        # Pooling\n",
    "        self.pool = nn.MaxPool2d(2, 2)\n",
    "        \n",
    "        # Upsampling\n",
    "        self.upsample = nn.Upsample(scale_factor=2, mode='bilinear', align_corners=True)\n",
    "        \n",
    "    def forward(self, x):\n",
    "        # Encoder\n",
    "        x1 = F.relu(self.enc_bn1(self.enc_conv1(x)))\n",
    "        x1p = self.pool(x1)\n",
    "        x2 = F.relu(self.enc_bn2(self.enc_conv2(x1p)))\n",
    "        x2p = self.pool(x2)\n",
    "        x3 = F.relu(self.enc_bn3(self.enc_conv3(x2p)))\n",
    "        \n",
    "        # Decoder\n",
    "        x3u = self.upsample(x3)\n",
    "        x2d = F.relu(self.dec_bn1(self.dec_conv1(x3u)))\n",
    "        x1u = self.upsample(x2d)\n",
    "        x1d = F.relu(self.dec_bn2(self.dec_conv2(x1u)))\n",
    "        x_out = self.dec_conv3(x1d)\n",
    "        \n",
    "        # Output\n",
    "        x_out = torch.sigmoid(x_out)  # Sigmoid activation to output probabilities\n",
    "        return x_out"
   ]
  },
  {
   "cell_type": "code",
   "execution_count": 4,
   "metadata": {},
   "outputs": [],
   "source": [
    "import torch.nn as nn\n",
    "import torch.optim as optim\n",
    "\n",
    "device = torch.device('cuda' if torch.cuda.is_available() else 'cpu')\n",
    "model = SimpleSegmentationModel().to(device)\n",
    "\n",
    "criterion = nn.BCEWithLogitsLoss()  # Binary Cross-Entropy Loss for binary classification\n",
    "optimizer = optim.Adam(model.parameters(), lr=0.001)\n"
   ]
  },
  {
   "cell_type": "code",
   "execution_count": 5,
   "metadata": {},
   "outputs": [],
   "source": [
    "batch_size = 8"
   ]
  },
  {
   "cell_type": "code",
   "execution_count": 6,
   "metadata": {},
   "outputs": [],
   "source": [
    "from torch.utils.data import DataLoader\n",
    "# Define your dataset and data loaders for training\n",
    "train_dataset = CustomLoader(device=device)\n",
    "train_loader = DataLoader(train_dataset, batch_size=batch_size, shuffle=True)"
   ]
  },
  {
   "cell_type": "code",
   "execution_count": null,
   "metadata": {},
   "outputs": [
    {
     "data": {
      "image/png": "[encoded data removed]",
      "text/plain": [
       "<Figure size 720x360 with 1 Axes>"
      ]
     },
     "metadata": {
      "needs_background": "light"
     },
     "output_type": "display_data"
    },
    {
     "name": "stdout",
     "output_type": "stream",
     "text": [
      "Epoch [1], Loss: 0.25896260142326355\n"
     ]
    }
   ],
   "source": [
    "from IPython.display import clear_output\n",
    "import matplotlib.pyplot as plt\n",
    "\n",
    "# Load the dataset using the CustomLoader\n",
    "dataset = CustomLoader(device=device)\n",
    "\n",
    "loss_values = []\n",
    "\n",
    "# Example training loop (for illustration purposes)\n",
    "for epoch in range(10):  # Just 1 epoch for demonstration\n",
    "    model.train()\n",
    "    for i in range(len(dataset)):\n",
    "        sample = dataset[i]\n",
    "        images, masks = sample['images'], sample['masks']\n",
    "        optimizer.zero_grad()\n",
    "        outputs = model(images.unsqueeze(0))  # Add batch dimension\n",
    "        loss = criterion(outputs, masks.unsqueeze(0))  # Add batch dimension\n",
    "        loss.backward()\n",
    "        optimizer.step()\n",
    "\n",
    "        loss_values.append(loss.item())\n",
    "        \n",
    "        clear_output(wait=True)\n",
    "        plt.figure(figsize=(10, 5))\n",
    "        plt.plot(loss_values, label='Training Loss')\n",
    "        plt.xlabel('Iterations')\n",
    "        plt.ylabel('Loss')\n",
    "        plt.legend()\n",
    "        plt.show()\n",
    "        print(f'Epoch [{epoch+1}], Loss: {loss.item()}')"
   ]
  },
  {
   "cell_type": "code",
   "execution_count": null,
   "metadata": {},
   "outputs": [],
   "source": [
    "# save the model\n",
    "torch.save(model.state_dict(), 'cnn.pth')\n"
   ]
  }
 ],
 "metadata": {
  "kernelspec": {
   "display_name": "Python 3 (ipykernel)",
   "language": "python",
   "name": "python3"
  },
  "language_info": {
   "codemirror_mode": {
    "name": "ipython",
    "version": 3
   },
   "file_extension": ".py",
   "mimetype": "text/x-python",
   "name": "python",
   "nbconvert_exporter": "python",
   "pygments_lexer": "ipython3",
   "version": "3.10.12"
  }
 },
 "nbformat": 4,
 "nbformat_minor": 2
}
