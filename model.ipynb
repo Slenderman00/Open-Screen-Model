{
 "cells": [
  {
   "cell_type": "markdown",
   "metadata": {},
   "source": [
    "![Open Screen](https://github.com/Slenderman00/open_screen/blob/master/media/banner.png?raw=true)"
   ]
  },
  {
   "cell_type": "markdown",
   "metadata": {},
   "source": [
    "### Downloads the dataset"
   ]
  },
  {
   "cell_type": "code",
   "execution_count": 1,
   "metadata": {},
   "outputs": [],
   "source": [
    "import os\n",
    "import subprocess\n",
    "from IPython.display import clear_output\n",
    "\n",
    "cwd = os.getcwd()\n",
    "if not os.path.exists(f'{cwd}/dataset'):\n",
    "    process = subprocess.Popen('bash download_dataset.sh', shell=True, stdout=subprocess.PIPE, stderr=subprocess.STDOUT, universal_newlines=True)\n",
    "    for stdout_line in iter(process.stdout.readline, \"\"):\n",
    "        clear_output(wait=True)\n",
    "        print(stdout_line, end=\"\")\n",
    "    process.stdout.close()\n",
    "    process.wait()\n",
    "    assert process.returncode == 0\n",
    "    print('Finished downloading and extracting')\n"
   ]
  },
  {
   "cell_type": "markdown",
   "metadata": {},
   "source": [
    "### Calculate mean and std"
   ]
  },
  {
   "cell_type": "code",
   "execution_count": 2,
   "metadata": {},
   "outputs": [
    {
     "name": "stdout",
     "output_type": "stream",
     "text": [
      "Mean: tensor([0.3375, 0.6341, 0.3071])\n",
      "Std: tensor([0.3380, 0.3459, 0.3206])\n"
     ]
    }
   ],
   "source": [
    "import os\n",
    "from PIL import Image\n",
    "import torch\n",
    "from torchvision import transforms\n",
    "\n",
    "cwd = os.getcwd()\n",
    "\n",
    "sums = torch.zeros(3)\n",
    "squared_sums = torch.zeros(3)\n",
    "count = 0\n",
    "\n",
    "for image in os.listdir(f'{cwd}/dataset/image'):\n",
    "    image = f'{cwd}/dataset/image/{image}'\n",
    "    image = Image.open(image).convert('RGB')\n",
    "\n",
    "    image_tensor = transforms.ToTensor()(image)\n",
    "\n",
    "    sums += image_tensor.sum(dim=[1, 2])\n",
    "    squared_sums += (image_tensor ** 2).sum(dim=[1, 2])\n",
    "    count += image_tensor.size(1) * image_tensor.size(2)\n",
    "\n",
    "mean = sums / count\n",
    "std = (squared_sums / count - mean ** 2) ** 0.5\n",
    "\n",
    "print(f'Mean: {mean}')\n",
    "print(f'Std: {std}')"
   ]
  },
  {
   "cell_type": "markdown",
   "metadata": {},
   "source": [
    "### Create a custom dataset loader for pytorch"
   ]
  },
  {
   "cell_type": "code",
   "execution_count": 3,
   "metadata": {},
   "outputs": [],
   "source": [
    "import os\n",
    "from torchvision import transforms\n",
    "from torch.utils.data import Dataset\n",
    "from PIL import Image\n",
    "\n",
    "image_transform = transforms.Compose([\n",
    "    transforms.Resize((512, 512)),  # Resize the images to a fixed size\n",
    "    transforms.ToTensor(),  # Convert the images to tensors\n",
    "    transforms.Normalize(mean, std), # Normalise data\n",
    "])\n",
    "\n",
    "mask_transform = transforms.Compose([\n",
    "    transforms.Resize((512, 512)),   # Resize the masks to a fixed size\n",
    "    transforms.Grayscale(),          # Convert masks to grayscale if they are not already\n",
    "    transforms.ToTensor(),        # Convert the masks to tensors\n",
    "])\n",
    "\n",
    "class CustomLoader(Dataset):\n",
    "    def __init__(self, device='cpu'):\n",
    "        self.device = device\n",
    "        self.cwd = os.getcwd()\n",
    "        self.len = len(os.listdir(f'{self.cwd}/dataset/image'))\n",
    "\n",
    "    def __len__(self):\n",
    "        return self.len\n",
    "\n",
    "    def __getitem__(self, idx):\n",
    "        image_path = f'{self.cwd}/dataset/image/{idx}.jpg'\n",
    "        mask_path = f'{self.cwd}/dataset/mask/{idx}.png'\n",
    "\n",
    "        image = Image.open(image_path).convert('RGB')\n",
    "        mask = Image.open(mask_path).convert('L')  # Convert mask to grayscale\n",
    "\n",
    "        # Apply the transformations\n",
    "        image_tensor = image_transform(image).float()\n",
    "        mask_tensor = mask_transform(mask).float()\n",
    "\n",
    "        # If mask is not single-channel, take the first channel\n",
    "        if mask_tensor.size(0) != 1:\n",
    "            mask_tensor = mask_tensor[0].unsqueeze(0)\n",
    "\n",
    "        # Move tensors to the specified device\n",
    "        image_tensor = image_tensor.to(self.device)\n",
    "        mask_tensor = mask_tensor.to(self.device)\n",
    "\n",
    "        return {'images': image_tensor, 'masks': mask_tensor}"
   ]
  },
  {
   "cell_type": "code",
   "execution_count": 4,
   "metadata": {},
   "outputs": [],
   "source": [
    "import torch\n",
    "import torch.nn as nn\n",
    "import torch.nn.functional as F\n",
    "\n",
    "class SimpleSegmentationModel(nn.Module):\n",
    "    def __init__(self):\n",
    "        super(SimpleSegmentationModel, self).__init__()\n",
    "        # Encoder\n",
    "        self.enc_conv1a = nn.Conv2d(3, 64, kernel_size=3, padding=1)\n",
    "        self.enc_conv1b = nn.Conv2d(64, 64, kernel_size=3, padding=1)\n",
    "        self.enc_bn1 = nn.BatchNorm2d(64)\n",
    "        self.enc_conv2a = nn.Conv2d(64, 128, kernel_size=3, padding=1)\n",
    "        self.enc_conv2b = nn.Conv2d(128, 128, kernel_size=3, padding=1)\n",
    "        self.enc_bn2 = nn.BatchNorm2d(128)\n",
    "        self.enc_conv3a = nn.Conv2d(128, 256, kernel_size=3, padding=1)\n",
    "        self.enc_conv3b = nn.Conv2d(256, 256, kernel_size=3, padding=1)\n",
    "        self.enc_bn3 = nn.BatchNorm2d(256)\n",
    "        \n",
    "        # Decoder\n",
    "        self.dec_conv1a = nn.Conv2d(256, 128, kernel_size=3, padding=1)\n",
    "        self.dec_conv1b = nn.Conv2d(128, 128, kernel_size=3, padding=1)\n",
    "        self.dec_bn1 = nn.BatchNorm2d(128)\n",
    "        self.dec_conv2a = nn.Conv2d(128, 64, kernel_size=3, padding=1)\n",
    "        self.dec_conv2b = nn.Conv2d(64, 64, kernel_size=3, padding=1)\n",
    "        self.dec_bn2 = nn.BatchNorm2d(64)\n",
    "        self.dec_conv3 = nn.Conv2d(64, 1, kernel_size=3, padding=1)\n",
    "        \n",
    "        # Pooling\n",
    "        self.pool = nn.MaxPool2d(2, 2)\n",
    "        \n",
    "        # Upsampling\n",
    "        self.upsample = nn.Upsample(scale_factor=2, mode='bilinear', align_corners=True)\n",
    "        \n",
    "\n",
    "    def forward(self, x):\n",
    "        # Encoder\n",
    "        x1 = F.relu(self.enc_bn1(self.enc_conv1a(x)))\n",
    "        x1 = F.relu(self.enc_bn1(self.enc_conv1b(x1)))\n",
    "        x1p = self.pool(x1)\n",
    "        x2 = F.relu(self.enc_bn2(self.enc_conv2a(x1p)))\n",
    "        x2 = F.relu(self.enc_bn2(self.enc_conv2b(x2)))\n",
    "        x2p = self.pool(x2)\n",
    "        x3 = F.relu(self.enc_bn3(self.enc_conv3a(x2p)))\n",
    "        x3 = F.relu(self.enc_bn3(self.enc_conv3b(x3)))\n",
    "        \n",
    "        # Decoder\n",
    "        x3u = self.upsample(x3)\n",
    "        x2d = F.relu(self.dec_bn1(self.dec_conv1a(x3u)))\n",
    "        x2d = F.relu(self.dec_bn1(self.dec_conv1b(x2d)))\n",
    "        x1u = self.upsample(x2d)\n",
    "        x1d = F.relu(self.dec_bn2(self.dec_conv2a(x1u)))\n",
    "        x1d = F.relu(self.dec_bn2(self.dec_conv2b(x1d)))\n",
    "        x_out = self.dec_conv3(x1d)\n",
    "\n",
    "        x_out = torch.sigmoid(x_out)\n",
    "\n",
    "        return x_out\n",
    "\n",
    "    def forward_with_activations(self, x):\n",
    "        activations = {}\n",
    "        \n",
    "        # Encoder\n",
    "        x1 = F.relu(self.enc_bn1(self.enc_conv1a(x)))\n",
    "        activations['enc_conv1a'] = x1\n",
    "        x1 = F.relu(self.enc_bn1(self.enc_conv1b(x1)))\n",
    "        activations['enc_conv1b'] = x1\n",
    "        x1p = self.pool(x1)\n",
    "        activations['pool1'] = x1p\n",
    "        x2 = F.relu(self.enc_bn2(self.enc_conv2a(x1p)))\n",
    "        activations['enc_conv2a'] = x2\n",
    "        x2 = F.relu(self.enc_bn2(self.enc_conv2b(x2)))\n",
    "        activations['enc_conv2b'] = x2\n",
    "        x2p = self.pool(x2)\n",
    "        activations['pool2'] = x2p\n",
    "        x3 = F.relu(self.enc_bn3(self.enc_conv3a(x2p)))\n",
    "        activations['enc_conv3a'] = x3\n",
    "        x3 = F.relu(self.enc_bn3(self.enc_conv3b(x3)))\n",
    "        activations['enc_conv3b'] = x3\n",
    "        \n",
    "        # Decoder\n",
    "        x3u = self.upsample(x3)\n",
    "        activations['upsample1'] = x3u\n",
    "        x2d = F.relu(self.dec_bn1(self.dec_conv1a(x3u)))\n",
    "        activations['dec_conv1a'] = x2d\n",
    "        x2d = F.relu(self.dec_bn1(self.dec_conv1b(x2d)))\n",
    "        activations['dec_conv1b'] = x2d\n",
    "        x1u = self.upsample(x2d)\n",
    "        activations['upsample2'] = x1u\n",
    "        x1d = F.relu(self.dec_bn2(self.dec_conv2a(x1u)))\n",
    "        activations['dec_conv2a'] = x1d\n",
    "        x1d = F.relu(self.dec_bn2(self.dec_conv2b(x1d)))\n",
    "        activations['dec_conv2b'] = x1d\n",
    "        x_out = self.dec_conv3(x1d)\n",
    "        activations['dec_conv3'] = x_out\n",
    "        \n",
    "        # Output\n",
    "        x_out = torch.sigmoid(x_out)  # Sigmoid activation to output probabilities\n",
    "\n",
    "        return activations, x_out"
   ]
  },
  {
   "cell_type": "code",
   "execution_count": 5,
   "metadata": {},
   "outputs": [],
   "source": [
    "import torch.nn as nn\n",
    "import torch.optim as optim\n",
    "\n",
    "device = torch.device('cuda' if torch.cuda.is_available() else 'cpu')\n",
    "model = SimpleSegmentationModel().to(device)\n",
    "\n",
    "criterion = nn.BCEWithLogitsLoss()  # Binary Cross-Entropy Loss for binary classification\n",
    "optimizer = optim.Adam(model.parameters(), lr=0.001)\n"
   ]
  },
  {
   "cell_type": "markdown",
   "metadata": {},
   "source": [
    "### Settings\n",
    "\n",
    "- Batch_size: sets the DataLoaders batch size\n",
    "- Debug: Enables debug mode (detailed view of what happens inside the layers during inference)"
   ]
  },
  {
   "cell_type": "code",
   "execution_count": 6,
   "metadata": {},
   "outputs": [],
   "source": [
    "batch_size = 1\n",
    "debug = False"
   ]
  },
  {
   "cell_type": "code",
   "execution_count": 7,
   "metadata": {},
   "outputs": [],
   "source": [
    "from torch.utils.data import DataLoader, random_split\n",
    "\n",
    "train_dataset = CustomLoader(device=device)\n",
    "\n",
    "validation_size = int(0.2 * len(train_dataset))\n",
    "train_size = len(train_dataset) - validation_size\n",
    "\n",
    "train_subset, validation_subset = random_split(train_dataset, [train_size, validation_size])\n",
    "\n",
    "train_loader = DataLoader(train_subset, batch_size=batch_size, shuffle=True)\n",
    "validation_loader = DataLoader(validation_subset, batch_size=batch_size, shuffle=True)"
   ]
  },
  {
   "cell_type": "code",
   "execution_count": null,
   "metadata": {},
   "outputs": [
    {
     "name": "stderr",
     "output_type": "stream",
     "text": [
      "Clipping input data to the valid range for imshow with RGB data ([0..1] for floats or [0..255] for integers).\n"
     ]
    },
    {
     "name": "stdout",
     "output_type": "stream",
     "text": [
      "Epoch [1], Loss: 0.6403299570083618\n"
     ]
    },
    {
     "data": {
      "image/png": "[encoded data removed]",
      "text/plain": [
       "<Figure size 720x360 with 1 Axes>"
      ]
     },
     "metadata": {
      "needs_background": "light"
     },
     "output_type": "display_data"
    },
    {
     "data": {
      "image/png": "[encoded data removed]",
      "text/plain": [
       "<Figure size 720x360 with 1 Axes>"
      ]
     },
     "metadata": {
      "needs_background": "light"
     },
     "output_type": "display_data"
    },
    {
     "data": {
      "image/png": "[encoded data removed]",
      "text/plain": [
       "<Figure size 720x360 with 3 Axes>"
      ]
     },
     "metadata": {
      "needs_background": "light"
     },
     "output_type": "display_data"
    }
   ],
   "source": [
    "from IPython.display import clear_output\n",
    "import matplotlib.pyplot as plt\n",
    "\n",
    "\n",
    "def visualize_activations(activations):\n",
    "    for name, activation in activations.items():\n",
    "        num_feature_maps = activation.size(1)\n",
    "        \n",
    "        num_feature_maps_to_display = min(num_feature_maps, 15)\n",
    "        \n",
    "        fig, axes = plt.subplots(1, num_feature_maps_to_display, figsize=(20, 2))\n",
    "        if num_feature_maps_to_display == 1:\n",
    "            axes = [axes]\n",
    "            \n",
    "        for i in range(num_feature_maps_to_display):\n",
    "            # We detach the tensor from the GPU and convert to numpy for visualization\n",
    "            feature_map = activation[0, i].detach().cpu().numpy()\n",
    "            axes[i].set_title(name)\n",
    "            axes[i].imshow(feature_map, cmap='gray')\n",
    "            axes[i].axis('off')\n",
    "\n",
    "def plot_masks(image, true_mask, pred_mask, epoch, idx, loss_values, val_loss_values):\n",
    "    clear_output(wait=True)\n",
    "\n",
    "    plt.figure(figsize=(10, 5))\n",
    "    plt.plot(loss_values, label='Training Loss')\n",
    "    plt.xlabel('Iterations')\n",
    "    plt.ylabel('Loss')\n",
    "    plt.legend()\n",
    "\n",
    "    plt.figure(figsize=(10, 5))\n",
    "    plt.plot(val_loss_values, label='Validation Loss')\n",
    "    plt.xlabel('Iterations')\n",
    "    plt.ylabel('Loss')\n",
    "    plt.legend()\n",
    "\n",
    "    fig, axs = plt.subplots(1, 3, figsize=(10, 5))\n",
    "\n",
    "    image_np = image.squeeze(0).cpu().numpy().transpose(1, 2, 0)\n",
    "    pred_mask_np = pred_mask.squeeze().detach().cpu().numpy()\n",
    "\n",
    "    if true_mask is not None:\n",
    "        true_mask_np = true_mask.squeeze().cpu().numpy()\n",
    "\n",
    "        axs[1].imshow(true_mask_np, cmap='gray')\n",
    "        axs[1].set_title('Ground Truth Mask')\n",
    "        axs[1].axis('off')\n",
    "    \n",
    "    axs[0].imshow(image_np)\n",
    "    axs[0].set_title('Original Image')\n",
    "    axs[0].axis('off') \n",
    "    \n",
    "    axs[2].imshow(pred_mask_np, cmap='gray')\n",
    "    axs[2].set_title('Predicted Mask')\n",
    "    axs[2].axis('off')\n",
    "    \n",
    "    plt.suptitle(f'Epoch: {epoch}, Index: {idx}')\n",
    "\n",
    "loss_values = []\n",
    "val_loss_values = []\n",
    "\n",
    "for epoch in range(100):\n",
    "    model.train()\n",
    "    for i, sample in enumerate(train_loader):\n",
    "        images, masks = sample['images'], sample['masks']\n",
    "        optimizer.zero_grad()\n",
    "        if (i + epoch) % 500 == 0 and debug:\n",
    "            activations, outputs = model.forward_with_activations(images)\n",
    "        else:\n",
    "            outputs = model(images)  \n",
    "\n",
    "        loss = criterion(outputs, masks) \n",
    "        loss.backward()\n",
    "        optimizer.step()\n",
    "\n",
    "        loss_values.append(loss.item())\n",
    "        if (i + epoch) % 500 == 0:\n",
    "\n",
    "            pred_mask = outputs > 0.5  # Apply threshold to get binary mask\n",
    "            plot_masks(images, masks, pred_mask, epoch+1, i+1, loss_values, val_loss_values)\n",
    "            print(f'Epoch [{epoch+1}], Loss: {loss.item()}')\n",
    "            if debug:\n",
    "                visualize_activations(activations)\n",
    "            plt.show()\n",
    "\n",
    " \n",
    "    torch.save(model.state_dict(), f'backups/epoch{epoch}.pth')\n",
    "\n",
    "\n",
    "\n",
    "    # Validation step\n",
    "    model.eval()  # Set the model to evaluation mode\n",
    "    with torch.no_grad():  # No need to track gradients for validation\n",
    "        val_loss = 0\n",
    "        for i, sample in enumerate(validation_loader):\n",
    "            images, masks = sample['images'], sample['masks']\n",
    "            activations, outputs = model.forward_with_activations(images)\n",
    "            loss = criterion(outputs, masks)\n",
    "            val_loss += loss.item()\n",
    "\n",
    "            if (i + epoch) % 100 == 0 and debug:\n",
    "                pred_mask = outputs > 0.5  # Apply threshold to get binary mask\n",
    "                plot_masks(images, masks, pred_mask, epoch+1, i+1, loss_values, val_loss_values)\n",
    "                print('In Validation')\n",
    "                visualize_activations(activations)\n",
    "                plt.show()\n",
    "\n",
    "\n",
    "        val_loss /= len(validation_loader)\n",
    "        val_loss_values.append(val_loss)\n",
    "        print(f'Epoch [{epoch+1}], Validation Loss: {val_loss}')"
   ]
  },
  {
   "cell_type": "code",
   "execution_count": null,
   "metadata": {},
   "outputs": [],
   "source": [
    "# save the model\n",
    "torch.save(model.state_dict(), 'cnn.pth')\n"
   ]
  }
 ],
 "metadata": {
  "kernelspec": {
   "display_name": "Python 3 (ipykernel)",
   "language": "python",
   "name": "python3"
  },
  "language_info": {
   "codemirror_mode": {
    "name": "ipython",
    "version": 3
   },
   "file_extension": ".py",
   "mimetype": "text/x-python",
   "name": "python",
   "nbconvert_exporter": "python",
   "pygments_lexer": "ipython3",
   "version": "3.10.12"
  }
 },
 "nbformat": 4,
 "nbformat_minor": 2
}
